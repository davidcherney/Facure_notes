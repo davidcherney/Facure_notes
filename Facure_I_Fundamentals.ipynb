{
 "cells": [
  {
   "cell_type": "markdown",
   "id": "36d7c42c-6b62-4a93-ad3a-adee84f3434f",
   "metadata": {},
   "source": [
    "# 1 Intro \n",
    "\n",
    "In the past decade (2010–2020), an entire body of knowledge on causal identification was popularized by Judea Pearl and his team.\n",
    "\n",
    "The questions to be answered by causal inference are inherently “what if”s. ML is awful at those questions.\n",
    "\n",
    ">“the new wave of artificial intelligence does not actually bring us intelligence but instead a critical component of intelligence —- prediction.”\n",
    "\n",
    "For example,\n",
    "\n",
    ">\"in many industries, low prices are associated with low sales. For example, in the hotel industry, prices are low outside the tourist season, and prices are high when demand is highest and hotels are full. Given that data, a naive prediction might suggest that increasing the price would lead to more rooms sold.\"\n",
    "\n",
    "Most data scientists know a lot of ML and not much causal inference; this leads to an abundance of ML models being deployed where they are not useful for the task at hand. Think of ML as a toolbox, not as prediction as the solution to all things. \n",
    "\n",
    "\n",
    "**Definition:** The <u>unit of analysis</u> in a causal inference study is usually the thing you wish to intervene on (treat). \n",
    "\n",
    "\n",
    "e.g.\n",
    "- The unit of analysis in a test of a medication on blood pressure is likely to be individual people.\n",
    "- in a test to see if billboards in a city lead to increased sales in that city, the unit of treatment is individual cities."
   ]
  },
  {
   "cell_type": "markdown",
   "id": "bd8ff437-935f-492d-ac59-52846e2e82b3",
   "metadata": {},
   "source": [
    "## Notation and terminology\n",
    "- The treatment for unit $i$ is $T_i=1$ if $i$ recieved treatment (e.g. \"is on sale\" feature with a timestamp)\n",
    "- outcome for unit $i$ is $Y_i$ (e.g. weekly_amount_sold)\n",
    "- $\\leftarrow$ means \"is caused by\""
   ]
  },
  {
   "cell_type": "markdown",
   "id": "93a8f4d4-1e63-46be-839f-a2a328357000",
   "metadata": {},
   "source": [
    "On next review define exogenous and endogenous variables, please. \n",
    "\n",
    "**Definition:** In a model, an <u>exogeneous variable</u> is a quantity in the model that is intended to be observed and used as an input to the model. \n",
    "\n"
   ]
  },
  {
   "cell_type": "markdown",
   "id": "db0e7686-1585-49cd-b372-b52f86e4dc06",
   "metadata": {},
   "source": [
    "e.g.of a system of causations \n",
    "\n",
    "$T\\leftarrow f_t(u_t)$ means that $u_t$, a set of variables I’m not explicitly modeling (also called exogenous variables), causes the treatment $T$ via the function $f_ t$. \n",
    "\n",
    "$Y\\leftarrow f_y(T,U_y)$ means that   $T$ alongside another set of variables $u_y$ (which I’m also choosing not to model) jointly causes the outcome $Y$ via the function $f_y$. "
   ]
  },
  {
   "cell_type": "markdown",
   "id": "bae6326d-3def-48e7-aac9-3501e1443e60",
   "metadata": {},
   "source": [
    "e.g. \n",
    "$$\n",
    "\\text{is_on_sale} \\leftarrow f_t(u_t)\\\\\n",
    "\\text{amount_sold} \\leftarrow f_y(\\text{is_on_sale},u_y)\n",
    "$$\n"
   ]
  },
  {
   "cell_type": "markdown",
   "id": "7de68efe-633e-4895-997c-3b924bda1673",
   "metadata": {},
   "source": [
    "However, you might want to take into account that larger businesses can engage in more aggressive sales by making an endogenous feature called \n",
    "`business_size` and the system of causality (my phrase)\n",
    "$$\n",
    "\\text{business_size} \\leftarrow f_s(u_s)\\\\\n",
    "\\text{is_on_sale} \\leftarrow f_t(\\text{business_size}, u_t)\\\\\n",
    "\\text{amount_sold}\\leftarrow f_y(\\text{is_on_sale},\\text{business_size},u_y)\n",
    "$$"
   ]
  },
  {
   "cell_type": "markdown",
   "id": "c5a1356e-43da-454e-8771-babee09db6b7",
   "metadata": {},
   "source": [
    "**Definition:** The <u>fundamental problem of causal inference</u> is that you can never observe the same unit with and without treatment.\n",
    "\n",
    "**Notation:** To indicate that treatment assignment $T$ is a constant function of participant $i$ \"the $do(\\cdot)$ operator\" is often used; $do(T=t_0)$.\n",
    "\n",
    "e.g. note the difference\n",
    "- A condition on a variable: $\\mathbb{E}[\\text{amount_sold} | do(\\text{is_on_sale} =1)]$ refers to what would’ve happened if you forced every business to engage in sales, not just the big businesses. \n",
    "- A condition on an intervention: $\\mathbb{E}[\\text{amount_sold}|\\text{is_on_sale=1}]$ refers to what happened to the businesses engaged in sales, which mich just be the big businesses, and thus might be bigger than the quantity above. \n",
    "\n",
    "The $do$ operator is an example of an \"intervention.\" I don't feel like I have a full definition of this. \n",
    "\n",
    "(Me: the $do$ operator seems to refer to conditions that include counterfactuals.)"
   ]
  },
  {
   "cell_type": "markdown",
   "id": "f9d93f03-6cb8-4c55-b336-1bbd7bae5db5",
   "metadata": {},
   "source": [
    "**Definition:** The <u>individual treatment effect</u> is the difference of outcomes $\\tau_i= Y_i|do(T=t_1) - Y_i|do(T=t_0)$. \n",
    "\n",
    "Reiterating: $Y$ is called outcome, some differences in outcomes are called efects. I have a habit of calling $Y$ effect.  "
   ]
  },
  {
   "cell_type": "markdown",
   "id": "084ceda7-f2ae-4aff-8e8e-d68fcb0c190c",
   "metadata": {},
   "source": [
    "ITE is the change in outcome of $i$ due to treatment of $i$. One of the two terms in the difference is a counterfactual. (Fraser would say $Y_{i1} - Y_{i_0})$. Indeed Facure defines, generalizing from binary treatment to $>2$ values of $t$, \n",
    "$$\n",
    "\\begin{array}{ll}\n",
    "Y_{ti} &:= Y_i|do(T_i = t)\\\\\n",
    "Y(t)_i & =: Y_i|do(T_i = t)\\\\\n",
    "\\end{array}\n",
    "$$"
   ]
  },
  {
   "cell_type": "markdown",
   "id": "14fd9304-c22e-4e5e-ac70-b49a4a0ada72",
   "metadata": {},
   "source": [
    "\"factual potential outcome\" vs \"counterfactual potential outcome\""
   ]
  },
  {
   "cell_type": "markdown",
   "id": "dfc52ec2-0b31-45a3-9124-38722382cd9b",
   "metadata": {},
   "source": [
    "e.g. $\\text{amount_sold}_{0i}$ is the potential outcome for the no treatment case for unit $i$. "
   ]
  },
  {
   "cell_type": "markdown",
   "id": "55800738-ab11-477e-ac7b-1444192a57e0",
   "metadata": {},
   "source": [
    "With this notation the individual treatment effect for binary treatment is\n",
    "$$\n",
    "\\tau_i= Y_i|do(T=1) - Y_i|do(T=0)=Y_{1i} - Y_{0i}\n",
    ".$$ "
   ]
  },
  {
   "cell_type": "markdown",
   "id": "9e6dfc65-3ae3-48d5-b704-c960775ce519",
   "metadata": {},
   "source": [
    "**Definition:** The process of eliminating from expressions any quantities that are not observable  is <u>identificiation</u>. \n",
    "\n",
    "**Definition:** The <u>conditional independece assumption</u> (CIA) is that potential outcomes are independent of treatment conditioned on confounding variables $X$; it is the assumption that $Y(0),Y(1) \\perp T | X$.  \n",
    "\n",
    "(aka ignorability, ignorable treatment assignment, exogeneity, exchangability)\n",
    "\n",
    "If CIA holds then treatment acts like it was randomized, and so the CIA holds. "
   ]
  },
  {
   "cell_type": "markdown",
   "id": "28e9c4f3-6003-4dc7-816f-c35afe3c4fb9",
   "metadata": {},
   "source": [
    "## Consistency\n",
    "Consistnecy of treatment has two parts;\n",
    "1. The range of T covers all treatment values\n",
    "    - e.g. if 5 different dose size were given and you use a boolean \"treated\" then you violate this assumption\n",
    "2. The treatment values are quantifiable in a precise way\n",
    "    - e.g. If T is vauge, like \"recieved help\" then the consistency assumption is violated\n",
    "\n"
   ]
  },
  {
   "cell_type": "markdown",
   "id": "2b2a086b-d88c-4363-8835-fc89e1a760b2",
   "metadata": {},
   "source": [
    "## Stable Unit Treatment Values\n",
    "\n",
    "SUTVA \n",
    "- The treatment of one does not affect the individual treatment effect  of others;\n",
    "    - Alice and Bob are close. In giving a vaccine to Alice, the people around allice are less likely to get sick, so the treatment of allice influences the individual treatment effect of Bob. This is a violation of the SUTA assumption. \n",
    "    \n",
    "**Definition:** In <u>spillover</u>, control units get some treatment effect. \n",
    "\n",
    "To deal with spillovers, you can expand the definition of a treatment effect to include the treatment effect that comes from other units and use more flexible models to estimate those effects. "
   ]
  },
  {
   "cell_type": "markdown",
   "id": "399768c6-8816-43a9-a9e8-4aa3db1ebf87",
   "metadata": {},
   "source": [
    "## Causal Quantities \n",
    "\n",
    "**Definition:**  The <u>average treatment effect</u> is $ ATE := E(\\tau_i) = \\mathbb{E}(Y_{1i} - Y_{0i} )= \\mathbb{E}[Y | do(T=1)] −\\mathbb{E}[Y | do(T=0)] $. \n",
    "\n"
   ]
  },
  {
   "cell_type": "markdown",
   "id": "72c37574-5cb4-4655-9089-5425b68c296e",
   "metadata": {},
   "source": [
    "This differes from what I saw in Fraser in that the expectation value is over both the treated and untreated groups. \n",
    "\n",
    "In the case of continuous set of treatment values $\\text{ATE}= \\frac{\\partial}{\\partial t} \\mathbb{E}(Y|do(T=t))$. "
   ]
  },
  {
   "cell_type": "markdown",
   "id": "739fd7b1-4df9-4bd9-a6ff-da6315e289d7",
   "metadata": {},
   "source": [
    "**Definition:** <u>Average treatment effect on the treated</u> $\\text{ATT} = \\mathbb{E}[Y_{1i}-Y_{0i} | T=1]$. \n",
    "\n",
    "Woah... Fraser called this ATE. This name make a lot of sense for this quantitity! I think Fraser made a mistake! "
   ]
  },
  {
   "cell_type": "markdown",
   "id": "1b4abceb-5eb2-411a-9d4f-338d2cb2d112",
   "metadata": {},
   "source": [
    "**Definition:** The <u>conditional average treatment effects</u> $\\text{CATE}=E[Y_{1i}−Y_{0i} | X=x]$. "
   ]
  },
  {
   "cell_type": "markdown",
   "id": "0ca046e5-2f5f-44a4-ad1b-dd48303bd16b",
   "metadata": {},
   "source": [
    "## Bias"
   ]
  },
  {
   "cell_type": "markdown",
   "id": "2cd9f2be-101a-4d3d-a5b3-7127db50371a",
   "metadata": {},
   "source": [
    "Cusal inference problems can be broken into two steps: (parens are my additions)\n",
    "\n",
    "1. Identification (estimation), where you figure out how to express the causal quantity of interest in terms of observable quantities (without introducing bias).\n",
    "2. (emperical) Estimation, where you actually use data to estimate the causal quantity identified earlier."
   ]
  },
  {
   "cell_type": "markdown",
   "id": "b883c109-bff0-46fe-8475-d5a01cc49ece",
   "metadata": {},
   "source": [
    "(Those names seems wrong in the language of statistics; extimators are statistics, estimates are not summary quantities.)\n",
    "\n",
    "A mistep in either case can give us bias. There is not a single agreed upon definition of bias in causal inference, there are lots of kinds. "
   ]
  },
  {
   "cell_type": "markdown",
   "id": "f1e03809-5531-464b-af01-0525cccbb66b",
   "metadata": {},
   "source": [
    "Exchangeability seems to be their term for ignorable treatment assignment. "
   ]
  },
  {
   "cell_type": "markdown",
   "id": "451f8954-cf62-43fc-ab66-47beeab65a31",
   "metadata": {},
   "source": [
    "In the image below, I show that association is not equal to ATE; hte ITE for each unit is the same, and thus easy to see, while the association is the difference between averages of blue points and average of green points. "
   ]
  },
  {
   "cell_type": "markdown",
   "id": "d02101b2-f95f-400f-9698-288a7558db5d",
   "metadata": {},
   "source": [
    "<img src=\"images/IMG_6843.JPG\" width = \"400\">"
   ]
  },
  {
   "cell_type": "code",
   "execution_count": 32,
   "id": "f840bf21-8417-4195-a9ac-5ed32d40eb67",
   "metadata": {
    "collapsed": true,
    "jupyter": {
     "outputs_hidden": true
    },
    "tags": []
   },
   "outputs": [
    {
     "data": {
      "image/png": "[encoded data removed]",
      "text/plain": [
       "<Figure size 572.125x500 with 1 Axes>"
      ]
     },
     "metadata": {},
     "output_type": "display_data"
    }
   ],
   "source": [
    "import pandas as pd\n",
    "import seaborn as sns\n",
    "\n",
    "n = 2\n",
    "TE = .1 \n",
    "pretreatment_het_bias = 2\n",
    "\n",
    "df = pd.DataFrame(columns = ['X','Y','PO','T'])\n",
    "\n",
    "def generate_untreated_group(n):\n",
    "    for i in range(n):\n",
    "        # PO=0\n",
    "        df.loc[i] = [  i,0,     0,0]\n",
    "        # PO=1\n",
    "        df.loc[n+i] = [i, 0+TE, 1,0]\n",
    "        # T=1\n",
    "        # PO=0\n",
    "        df.loc[2*n+i] = [8 + i,pretreatment_het_bias,     0,1]\n",
    "        # PO=1\n",
    "        df.loc[3*n+i] = [8 + i,pretreatment_het_bias + TE,1,1]\n",
    "    pass\n",
    "\n",
    "generate_untreated_group(n)\n",
    "\n",
    "sns.lmplot(data=df,x='X',y='Y', \n",
    "           hue='T', \n",
    "           ci=None, fit_reg = False, \n",
    "           markers=['o','*'] # I'd like another way to distinguish on PO\n",
    "           # perhaps I need to combine T and PO into a single variable for hue to work on? \n",
    "           # What would be great is shape for PO =1 or PO = 0\n",
    "          );"
   ]
  },
  {
   "cell_type": "markdown",
   "id": "21ba50ce-ac09-4bb1-9bd5-a5d38a81d1f5",
   "metadata": {},
   "source": [
    "Their words for what is shown in this picture are \"the treated and untreated are not balanced\" but I want a definition of balanced. "
   ]
  },
  {
   "cell_type": "markdown",
   "id": "0b68b9df-9a0a-45b0-8d81-f1704f0805a4",
   "metadata": {},
   "source": [
    "There is not clear concensus on how to evaluate balance, but one suggestion is the evaluate the following normalized difference of means for each feature $f$\n",
    "$$\n",
    "\\frac{\\mu_{f1} - \\mu_{f0}}{\\sqrt{\\frac{\\sigma^2_{f1} +\\sigma^2_{f0}}{2}} }\n",
    "$$\n",
    "where $fT$ is for feature $f$ and treated group $T=\\{0,1\\}$, 0 is for control group. A candidate threshold for \"unbalanced\" is 0.5. \n",
    "\n",
    "Note that this kind of unbalance has a higher chance of appearing in small datasets. "
   ]
  },
  {
   "cell_type": "markdown",
   "id": "79a7a0df-e1f7-4eaa-8ea3-a892db4b3843",
   "metadata": {},
   "source": [
    "# 2 Randomized experiments and Stats Review\n",
    "\n",
    "---\n",
    "I write this because it sounds like our Skynet X problem: \n",
    "\n",
    "Say that the customers who received an email converted more:\n",
    "$E[ Y|\\text{Conversion Email} = 1 ]> E [ Y|\\text{Conversion Email} = 0]$\n",
    "\n",
    "The marketing team sent emails to customers who they thought were more likely to convert in the first place. This is very strong evidence of pre-treatment heterogeneity bias. \n",
    "\n",
    "---\n"
   ]
  },
  {
   "cell_type": "markdown",
   "id": "4d8f7a50-eff9-4f38-8b57-77b4e804c5f2",
   "metadata": {},
   "source": [
    "Always ask yourself what would be the perfect experiment to answer your question. Randomize Control Trials are the answer, but what would that look like for your case? \n"
   ]
  },
  {
   "cell_type": "markdown",
   "id": "934ab4da-4500-46b4-8f07-036f6b4e1779",
   "metadata": {},
   "source": [
    "## Hypothesis testing \n",
    "To decide if the difference in conversin rates between Email treatments is significant, \n",
    "\n",
    "### CI\n",
    "\n",
    "0. Form the null hypothesis that the difference of conversion rate means for treated and untreted is zero and set the significance level$\\alpha = 5\\%$.\n",
    "1. calculate the mean and standard error of conversion rate (i.e. feature $Y$) for both values of $T\\in\\{0,1\\}$; \n",
    "    - $\\mu_T = duh$\n",
    "    - $\\text{SE}_T = \\frac{\\hat{\\sigma}}{\\sqrt{n_T}}$\n",
    "2. Note that these represent mean and standard deviation of sample distributions, which are normal by the central limit theorem \n",
    "3. Note that the difference between two normal distributions $N(\\mu_1\\sigma^2_1) - N(\\mu_0,\\sigma^2_0) = N(\\mu_1-\\mu_2, \\sigma^2_1+\\sigma_0^2)$\n",
    "4. Calculate the 95% CI and note that the value in the null hypothesis 0, is outside of 1.96 standard deviations of this difference distribution, thus outside the CI.\n",
    "5. Reject the null hypothesis with 95% confidence. "
   ]
  },
  {
   "cell_type": "markdown",
   "id": "e4b2d896-84dc-4683-9c09-c56c59975104",
   "metadata": {},
   "source": [
    "They also discuss the hypothesis that the difference of means is 1%, in which $N(\\mu_1-\\mu_2, \\sigma^2_1+\\sigma_0^2)$ is simply replaced with $N(\\mu_1-\\mu_2-0.01, \\sigma^2_1+\\sigma_0^2)$ and it is observed that 0 is outside this dist (of course you could see where 1% falls in the former, the two ideas are equivalent.)"
   ]
  },
  {
   "cell_type": "markdown",
   "id": "0dbd954f-9b4f-4b81-93d4-daa4178bb6ad",
   "metadata": {},
   "source": [
    "### t-test\n",
    "Another option for a null hypothesis of the form $\\Delta \\mu =0$ is the t-statistic \n",
    "$$\n",
    "t_\\Delta = \\frac{(\\mu_0 - \\mu_1) - H_0}{\\sqrt{\\frac{\\sigma_0^2}{n_0} + \\frac{\\sigma_1^2}{n_1}}}\n",
    "$$"
   ]
  },
  {
   "cell_type": "markdown",
   "id": "3401b303-04ad-4955-947d-6d214404b05a",
   "metadata": {},
   "source": [
    "Larger values of the statistic are interpreted as farther from the hypothesis. \n",
    "\n",
    "This is in line with my idea of the t-distribution as the distribution of an experssion in $X\\sim N(0,1)$ that is\n",
    "$$\n",
    "\\frac{X_n}{\\text{SE}(X_n)}\n",
    "$$\n",
    "... but I know I need a slightly better intuition for it. What can I learn here? \n",
    "- The denominator normalizes the variance to ensure that $t \\sim N(0,1)$ if the null is true. ( I think that might be not quite the truth. ) \n",
    "- Technically, \"normal distribution\" is not accurate; use the $t$ distribution with $\\text{dof}=n-1$ when looking up the CDF inversee of the t-value. For $n>$ 100 the difference is nugatory. \n",
    "- Thus under the null hypothesis, $t$ values outside $(-1.96,1.96)$ appear less than 95% of the time; observing such a value allows us to reject $H_0$ with conficence level 95\\%.\n",
    "\n",
    "\n"
   ]
  },
  {
   "cell_type": "markdown",
   "id": "dea09125-6aaf-4721-a5b2-73646737726c",
   "metadata": {},
   "source": [
    "## p-values\n",
    "\n",
    "A weak point of mine. Lets go. \n",
    "\n",
    "\"the true definition of p-values can be very confusing. \" \n",
    "\n",
    "**Definition**(wikipedia): \"The <u>p-value</u> is the probability of obtaining test results at least as extreme as the results actually observed during the test, assuming that the null hypothesis is correct.”\n",
    "\n",
    "i.e. p-value is $P (data |H_0) = P (X_n = x_n |H_0)$."
   ]
  },
  {
   "cell_type": "markdown",
   "id": "bffbf7d9-15d2-41ac-86e9-927b7d8f837a",
   "metadata": {},
   "source": [
    "In the case of a t-test, $p$ is the area under the t-distribution beyond the observed value of the statistic. There is the one sided and there is the two sided. In the latter just multipy by 2 (since the t-distribution is symmetric.)"
   ]
  },
  {
   "cell_type": "markdown",
   "id": "10ceb1d3-9f85-4332-b31e-8264fc3e86ed",
   "metadata": {},
   "source": [
    "Me: $\\alpha$ is a threshold; if $p>\\alpha$ then keep the null hypothesis ( there is a chance!)"
   ]
  },
  {
   "cell_type": "markdown",
   "id": "56553280-0e7d-414a-b017-cc16b590bf83",
   "metadata": {},
   "source": [
    "**Definition:** The probability that a test correctly rejects the null hypothesis is called the <u>power</u> of the test. "
   ]
  },
  {
   "cell_type": "raw",
   "id": "19f7abf0-4b06-4f12-88f1-99c1208bc6ac",
   "metadata": {},
   "source": [
    "Power is denoted $1-\\beta$. The standard for significance and power is $α = 5 %$ and $1 − β = 80 %$. \n",
    "\n",
    "For a hypothesis for the form $H_0: \\theta = \\theta_0$ and a normal dist, \n",
    "- you need $δ − 1.96SE > 0$ to claim the result as significant enough to reject $H_0$\n",
    "- you need to reject $H_0$ at least 80% of the time (when it is false)\n",
    "- Therefore, you need to get the lower end of the 95% CI above zero, 80% of the time"
   ]
  },
  {
   "cell_type": "markdown",
   "id": "0034e2e8-ea01-4ce2-93ed-390f8c01f55b",
   "metadata": {},
   "source": [
    "striking: the ends $a_n,b_n$ of the 95% confidence interval $(a_n,b_n)$ obtained from a sample size $n$ has sampling distribution that also follows a normal distribution. THis makes sense; it is just the sampling distribution of the mean shifted by $1.96 \\text{SE}$.\n",
    "\n",
    "In order to have $δ − 1.96SE > 0$ a fraction 80% of the time you need the difference to be $\\delta > 1.96SE + 0.84SE$.\n",
    "- 1.96SE to give a 95% CI since $\\Phi(.95)=1.96$\n",
    "- 0.84SE so that the lower end of $(a,b)$ falls above zero 80% of the time since $\\Phi(.80)=.84$."
   ]
  },
  {
   "cell_type": "markdown",
   "id": "503682e5-a586-4fb7-b996-bf41b68fc3b4",
   "metadata": {},
   "source": [
    "Consider the image below. Let \n",
    "- $\\mu^*$ be the true mean\n",
    "- $H_0: \\mu =\\mu_0$ \n",
    "- $ \\delta^* = \\mu_0 - \\mu^*$ ( which is negative in the image.)\n",
    "- $\\delta_n = \\mu_0-X_n$\n",
    "- $\\color{blue}{f_{\\delta_n}}$ be the sampling distribution for $\\delta_n$\n",
    "- $b_n:=\\delta_n+\\Phi(.95)SE_n$ be the right end of the 95% CI for $\\color{blue}{f_{\\delta_n}}$\n",
    "- $\\color{green}{f_{b_n}}$ be the sampling distribution for $b_n$\n",
    "- $\\color{magenta}{d_n} := b_n +\\Phi(.80)SE_n$ be the right end of the 80% CI for $\\color{green}{f_{b_n}}$\n",
    "\n",
    "The null hypothesis is thus $H_0:\\delta =0$.\n",
    "\n",
    "Then, in order to reject the null hypothesis 80% of the time because $b_n< 0$  (so that 0 is not in  the 95% CI $(a,b)$) \n",
    "$$\n",
    "d_n<0\\\\\n",
    "\\Leftrightarrow b_n+\\Phi(.95)SE_n <  0\\\\ \n",
    "\\Leftrightarrow \\delta_n + \\Phi(.80)SE_n +\\Phi(.95)SE_n < 0\n",
    "$$\n",
    "\n",
    "agh... there is inelegant here wrong here. I feel I can smooth this out via translating when you have a probability from a normal distribution:\n",
    "$$\n",
    "\\mathbb{P}(X<x+a)<p \\\\\n",
    "\\Leftrightarrow \n",
    "\\mathbb{P}(X<x)<p - [\\Phi(x+a) - \\Phi(x)]\n",
    "$$\n",
    ". But I am not figuring it out fast enough. "
   ]
  },
  {
   "cell_type": "markdown",
   "id": "64bc66e2-27d6-4547-b393-492338ffdfce",
   "metadata": {},
   "source": [
    "<img src=\"images/IMG_6883.JPG\" width=\"300\">"
   ]
  },
  {
   "cell_type": "markdown",
   "id": "3373dce2-11a5-4171-bb52-ca6aba871b9d",
   "metadata": {},
   "source": [
    "What always gets me about this defintition is that it does not say \"under the null hypothesis\" so I'm left wondering what distribution to use. Wasserman points out that power is a function, and its interpretation depends on the subset of the parameter space; The above interpretation is for $\\beta |_{\\Theta_0^c}(\\theta)$ where $\\Theta_0$ is the subset of the parameter space $\\Theta$ that the null hypothesis supposes the true value $\\theta^*$ to be in. "
   ]
  },
  {
   "cell_type": "markdown",
   "id": "302991c7-5bae-4d08-aec7-aed327339d4b",
   "metadata": {},
   "source": [
    "## Sample Size Required\n",
    "\n",
    "From the perspective of the designer f an experiment, for your experiment to have 80% power you need a sample size that gives you $\\delta_n=2.8SE$ when the hypothesis is false. But you have not performed the experiment and do not know the $SE_\\Delta = \\sqrt{SE^2_0 +SE_1^2}$. Under the strongly ignorable treatment assumption $SE_0 = SE_1=\\sigma/\\sqrt{n}$ (seems null hypothesis like to me, but then $\\delta = 0 $, so I'm lost) , and so $SE_\\Delta = \\sigma\\sqrt{\\frac{2}n}$. Thus we need the \n",
    "$$\n",
    "\\delta >2.8 \\sigma \\sqrt{\\frac2n}\\\\\n",
    "\\Leftrightarrow \n",
    "n>2(2.8)^2\\frac{\\sigma^2}{\\delta^2}\n",
    "$$\n",
    "I do not see how this facilitates experimental design; you do not know the true value of $\\delta$, using the null hypothesis of $\\delta=0$ is not helpful, and we have no idea what $\\sigma$ is until after the experiment. Perhaps this is where Wasserman's clarity on power depending on true value of the parameter cones into play. "
   ]
  },
  {
   "cell_type": "markdown",
   "id": "8fdbd421-0480-4f5a-aba2-328d3d7ca900",
   "metadata": {},
   "source": [
    "# 3 Graphical Causal Models\n",
    "\n",
    "This ch is about identification.\n",
    "\n",
    "Structural causal model (SCM) refers to a unifying language of causal inference composed of graphs and equations encoded by them.\n",
    "\n",
    "We sometimes add a randomization node pointing to T, representing your knowledge of the fact that e.g. the cross-sell email was randomized. These nodes can be ignored.\n",
    "\n",
    "\n",
    "\n"
   ]
  },
  {
   "cell_type": "markdown",
   "id": "4aa23ba2-bdc5-41f2-90f6-50e6c9fdcb2b",
   "metadata": {},
   "source": [
    "## Graphical Models\n",
    "\n",
    "Causal graphs are built from three components: chains, forks, and immoralities. "
   ]
  },
  {
   "cell_type": "markdown",
   "id": "d6137c96-c433-4ce3-a7fe-80012c1e3eb9",
   "metadata": {},
   "source": [
    "### Chain"
   ]
  },
  {
   "cell_type": "markdown",
   "id": "32a95ce0-7a5f-45e2-9bed-b75692ee8af9",
   "metadata": {},
   "source": [
    "<img src=\"images/chain.svg\" width =\"300\">"
   ]
  },
  {
   "cell_type": "markdown",
   "id": "6da55875-3150-4af9-9f02-c1145adde028",
   "metadata": {},
   "source": [
    "**Definition:** A causal graph of the form $T \\to M \\to Y$ is a <u>chain</u>. \n",
    "\n",
    "**Definition:** In the chain $T \\to M \\to Y$ the node $M$ is called a <u>mediator</u>."
   ]
  },
  {
   "cell_type": "markdown",
   "id": "74760d4d-80bc-4da6-9b9c-8f6dbd09f29f",
   "metadata": {},
   "source": [
    "e.g. For a job candidate  the ability to solve problems is the mediator in the causal chain $\\text{causal knowledge} \\to \\text{sove problems} \\to \\text{job promotion}$.\n"
   ]
  },
  {
   "cell_type": "markdown",
   "id": "1641fc67-88b2-4f9c-8e75-2207b7987fdc",
   "metadata": {},
   "source": [
    "In a causal chain, \n",
    "$$T\\not \\perp Y.$$ \n",
    "However, conditioning on the mediator $M$ reults in \n",
    "\n",
    "$$T⊥Y|M$$\n",
    "\n",
    "In terms of expectatins this means $ E[Y|M,T] = E[Y|M].$"
   ]
  },
  {
   "cell_type": "markdown",
   "id": "9419f9b5-10e6-4939-8ed8-b48a50192418",
   "metadata": {},
   "source": [
    "So, colloquially we say that in conditioning on $M$ \"the dependence is blocked\" between $T$ and $Y$.  "
   ]
  },
  {
   "cell_type": "markdown",
   "id": "347183a1-8cd1-40a8-9c76-065e27f2ff47",
   "metadata": {},
   "source": [
    "e.g. In terms of expectations, the idea is that conditioning on $T$ does nothing beyond what conditioning on $M$ does;\n",
    "$\n",
    "E [\\text{Promotion} |  \\text{Solve problems}, \\text{Causal knowledge} ]= E [\\text{Promotion} | \\text{Solve problems}].$\n",
    "\n",
    "In diagrams, a shaded node means conditioning on on that node."
   ]
  },
  {
   "cell_type": "markdown",
   "id": "3c5580a1-59dc-4e7a-94b6-e66915cf6228",
   "metadata": {},
   "source": [
    "### Fork\n",
    "**Definition:** A causal graph comprised of one node causing two nodes is a <u>fork</u>.\n",
    "\n",
    "<img src=\"images/download.svg\" width =\"300\">"
   ]
  },
  {
   "cell_type": "markdown",
   "id": "ddc7b702-7875-424d-b45b-30dff76232a1",
   "metadata": {},
   "source": [
    "The terminal nodes don’t cause each other but do move together (are associated/correlated) simply because they are both caused by the same $X$.\n",
    "\n",
    "$$T ⊥̸ Y$$\n",
    "\n",
    "**Definition:** When there is a common cause between a treatment and the outcome, we call that common cause a <u>confounder</u>.\n",
    "\n",
    "When you condition on the common cause of a fork\n",
    "$$\n",
    "T⊥Y|X .\n",
    "$$ "
   ]
  },
  {
   "cell_type": "markdown",
   "id": "130c6b58-25ec-46d7-b8ac-e4634a9bdf4c",
   "metadata": {},
   "source": [
    "### Immorality \n",
    "**Definition:** A causal graph comprised of two nodes both causing a third node is a <u>immorality</u>. \n",
    "\n",
    "**Definition:** In a immorality, the node with two causes is a <u>collider</u>. "
   ]
  },
  {
   "cell_type": "markdown",
   "id": "07597984-35f1-4633-a033-e752d2d8f053",
   "metadata": {},
   "source": [
    "<img src=\"images/download-1.svg\" width =\"300\">"
   ]
  },
  {
   "cell_type": "markdown",
   "id": "bda879d3-9b31-46d6-bd68-6e595448d224",
   "metadata": {},
   "source": [
    "The two parent nodes in a collider are not associated;\n",
    "$$\n",
    "Y\\perp T.\n",
    "$$\n",
    "There is an interesting effect of conditioning on the terminal node that is worth thinking through with examples;\n",
    "1. I don't know about your job promotion, \n",
    "    - then my knowledge of your statistics skill and flattering skill are independent. \n",
    "2. if I know you did get a promotion, \n",
    "    - knowing you are bad at statistics  tells me you are (likely) good at flattery.\n",
    "    - knowing you are bad at flattery tells me you are good at statistics\n",
    "    - (specious) knowing you are good at statistics tells me you are bad at flattering.\n",
    "    - (specious) knowing you are good at flattery tells me you are bad at statistics.\n",
    "3. if you didn't get a promotion then\n",
    "    - you are (likely) bad at both statistics and flattery.\n",
    "    \n",
    "Case 2 has a name.\n",
    "\n",
    "**Definition:** In an immporality, <u>explaining away</u> is when one cause is used to explain the effect, thereby reducing the probability of the alternative cause."
   ]
  },
  {
   "cell_type": "markdown",
   "id": "90ce7f40-2864-4ce2-b11c-a3605dac8b3e",
   "metadata": {},
   "source": [
    "$$\n",
    "T ⊥̸ Y | X\n",
    "$$"
   ]
  },
  {
   "cell_type": "markdown",
   "id": "78819a3d-a830-4ed2-a66b-ceb90ab53cc9",
   "metadata": {},
   "source": [
    "Important: Conditioning on a thing caused by the collider also makes the causes of the collider dependent. \n",
    "\n",
    "<img src=\"images/download-2.svg\" width =\"300\">\n",
    "$$\n",
    "T ⊥̸ Y | X_2\n",
    "$$"
   ]
  },
  {
   "cell_type": "markdown",
   "id": "121a6cb4-fc82-4773-9aa9-4a68ae2e4494",
   "metadata": {},
   "source": [
    "### Cheat sheet:\n",
    "\n",
    "\n",
    "<img src=\"images/Screenshot 2024-01-04 at 2.01.13 PM.png\" width =\"300\">"
   ]
  },
  {
   "cell_type": "markdown",
   "id": "71db4af6-19bb-4d6e-b89d-5d70eac743d0",
   "metadata": {},
   "source": [
    "The language \"flows both ways\" seems dumb considering that $⊥̸$ is symmetric. \n",
    "\n",
    "1. In a chain dependence flows both ways; $Y⊥̸T$ and $Y⊥̸T$\n",
    "2. IN a fork, dependence flows both ways; $Y⊥̸T$\n",
    "3. In a immorality dependence is blocked; $Y\\perp T$ \n",
    "4. same\n",
    "5. In a chain conditioned on its M, dependence is blocked; $Y\\perp T$\n",
    "6. in a fork conditioned on M, dependence is blocked; $Y\\perp T$\n",
    "7. In a immorality conditioned on the collider dependence flows;  $Y⊥̸T$\n",
    "8. In a immorality conditioned on something the collider causes, dependence flows; $Y⊥̸T$."
   ]
  },
  {
   "cell_type": "markdown",
   "id": "7e01ed7f-b0a8-41d9-9bd5-8cfdd576359e",
   "metadata": {},
   "source": [
    "In all this boils down to two rules. \n",
    "\n",
    "A path is blocked if and only if:\n",
    "1. It contains a non-collider that has been conditioned on.\n",
    "2. It contains a collider that has not been conditioned on and has no descendants that have been conditioned on.\n"
   ]
  },
  {
   "cell_type": "markdown",
   "id": "4b2f3124-3252-4841-b6c4-4ad6ee7264ee",
   "metadata": {},
   "source": [
    "The python library `graphvis` is good for visualizing directed graphs. "
   ]
  },
  {
   "cell_type": "code",
   "execution_count": 1,
   "id": "7466b0bf-1707-4278-b3f6-1284f7ff0039",
   "metadata": {
    "ExecuteTime": {
     "end_time": "2023-06-25T15:09:30.952339Z",
     "start_time": "2023-06-25T15:09:30.746564Z"
    },
    "tags": [
     "hide-input"
    ]
   },
   "outputs": [
    {
     "data": {
      "image/svg+xml": [
       "<?xml version=\"1.0\" encoding=\"UTF-8\" standalone=\"no\"?>\n",
       "<!DOCTYPE svg PUBLIC \"-//W3C//DTD SVG 1.1//EN\"\n",
       " \"http://www.w3.org/Graphics/SVG/1.1/DTD/svg11.dtd\">\n",
       "<!-- Generated by graphviz version 9.0.0 (20230911.1827)\n",
       " -->\n",
       "<!-- Pages: 1 -->\n",
       "<svg width=\"242pt\" height=\"152pt\"\n",
       " viewBox=\"0.00 0.00 242.00 152.00\" xmlns=\"http://www.w3.org/2000/svg\" xmlns:xlink=\"http://www.w3.org/1999/xlink\">\n",
       "<g id=\"graph0\" class=\"graph\" transform=\"scale(1 1) rotate(0) translate(4 148)\">\n",
       "<polygon fill=\"white\" stroke=\"none\" points=\"-4,4 -4,-148 238,-148 238,4 -4,4\"/>\n",
       "<!-- C -->\n",
       "<g id=\"node1\" class=\"node\">\n",
       "<title>C</title>\n",
       "<ellipse fill=\"none\" stroke=\"black\" cx=\"27\" cy=\"-72\" rx=\"27\" ry=\"18\"/>\n",
       "<text text-anchor=\"middle\" x=\"27\" y=\"-66.95\" font-family=\"Times,serif\" font-size=\"14.00\">C</text>\n",
       "</g>\n",
       "<!-- A -->\n",
       "<g id=\"node2\" class=\"node\">\n",
       "<title>A</title>\n",
       "<ellipse fill=\"none\" stroke=\"black\" cx=\"117\" cy=\"-126\" rx=\"27\" ry=\"18\"/>\n",
       "<text text-anchor=\"middle\" x=\"117\" y=\"-120.95\" font-family=\"Times,serif\" font-size=\"14.00\">A</text>\n",
       "</g>\n",
       "<!-- C&#45;&gt;A -->\n",
       "<g id=\"edge1\" class=\"edge\">\n",
       "<title>C&#45;&gt;A</title>\n",
       "<path fill=\"none\" stroke=\"black\" d=\"M47.53,-83.98C59.15,-91.12 74.11,-100.3 87.08,-108.25\"/>\n",
       "<polygon fill=\"black\" stroke=\"black\" points=\"84.88,-111.01 95.23,-113.26 88.54,-105.04 84.88,-111.01\"/>\n",
       "</g>\n",
       "<!-- B -->\n",
       "<g id=\"node3\" class=\"node\">\n",
       "<title>B</title>\n",
       "<ellipse fill=\"none\" stroke=\"black\" cx=\"117\" cy=\"-72\" rx=\"27\" ry=\"18\"/>\n",
       "<text text-anchor=\"middle\" x=\"117\" y=\"-66.95\" font-family=\"Times,serif\" font-size=\"14.00\">B</text>\n",
       "</g>\n",
       "<!-- C&#45;&gt;B -->\n",
       "<g id=\"edge2\" class=\"edge\">\n",
       "<title>C&#45;&gt;B</title>\n",
       "<path fill=\"none\" stroke=\"black\" d=\"M54.4,-72C61.89,-72 70.18,-72 78.2,-72\"/>\n",
       "<polygon fill=\"black\" stroke=\"black\" points=\"78.1,-75.5 88.1,-72 78.1,-68.5 78.1,-75.5\"/>\n",
       "</g>\n",
       "<!-- G -->\n",
       "<g id=\"node7\" class=\"node\">\n",
       "<title>G</title>\n",
       "<ellipse fill=\"none\" stroke=\"black\" cx=\"207\" cy=\"-126\" rx=\"27\" ry=\"18\"/>\n",
       "<text text-anchor=\"middle\" x=\"207\" y=\"-120.95\" font-family=\"Times,serif\" font-size=\"14.00\">G</text>\n",
       "</g>\n",
       "<!-- A&#45;&gt;G -->\n",
       "<g id=\"edge6\" class=\"edge\">\n",
       "<title>A&#45;&gt;G</title>\n",
       "<path fill=\"none\" stroke=\"black\" d=\"M144.4,-126C151.89,-126 160.18,-126 168.2,-126\"/>\n",
       "<polygon fill=\"black\" stroke=\"black\" points=\"168.1,-129.5 178.1,-126 168.1,-122.5 168.1,-129.5\"/>\n",
       "</g>\n",
       "<!-- E -->\n",
       "<g id=\"node5\" class=\"node\">\n",
       "<title>E</title>\n",
       "<ellipse fill=\"none\" stroke=\"black\" cx=\"207\" cy=\"-45\" rx=\"27\" ry=\"18\"/>\n",
       "<text text-anchor=\"middle\" x=\"207\" y=\"-39.95\" font-family=\"Times,serif\" font-size=\"14.00\">E</text>\n",
       "</g>\n",
       "<!-- B&#45;&gt;E -->\n",
       "<g id=\"edge4\" class=\"edge\">\n",
       "<title>B&#45;&gt;E</title>\n",
       "<path fill=\"none\" stroke=\"black\" d=\"M142.05,-64.62C150.97,-61.88 161.29,-58.72 170.99,-55.74\"/>\n",
       "<polygon fill=\"black\" stroke=\"black\" points=\"172,-59.09 180.54,-52.81 169.95,-52.4 172,-59.09\"/>\n",
       "</g>\n",
       "<!-- D -->\n",
       "<g id=\"node4\" class=\"node\">\n",
       "<title>D</title>\n",
       "<ellipse fill=\"none\" stroke=\"black\" cx=\"27\" cy=\"-126\" rx=\"27\" ry=\"18\"/>\n",
       "<text text-anchor=\"middle\" x=\"27\" y=\"-120.95\" font-family=\"Times,serif\" font-size=\"14.00\">D</text>\n",
       "</g>\n",
       "<!-- D&#45;&gt;A -->\n",
       "<g id=\"edge3\" class=\"edge\">\n",
       "<title>D&#45;&gt;A</title>\n",
       "<path fill=\"none\" stroke=\"black\" d=\"M54.4,-126C61.89,-126 70.18,-126 78.2,-126\"/>\n",
       "<polygon fill=\"black\" stroke=\"black\" points=\"78.1,-129.5 88.1,-126 78.1,-122.5 78.1,-129.5\"/>\n",
       "</g>\n",
       "<!-- F -->\n",
       "<g id=\"node6\" class=\"node\">\n",
       "<title>F</title>\n",
       "<ellipse fill=\"none\" stroke=\"black\" cx=\"117\" cy=\"-18\" rx=\"27\" ry=\"18\"/>\n",
       "<text text-anchor=\"middle\" x=\"117\" y=\"-12.95\" font-family=\"Times,serif\" font-size=\"14.00\">F</text>\n",
       "</g>\n",
       "<!-- F&#45;&gt;E -->\n",
       "<g id=\"edge5\" class=\"edge\">\n",
       "<title>F&#45;&gt;E</title>\n",
       "<path fill=\"none\" stroke=\"black\" d=\"M142.05,-25.38C150.97,-28.12 161.29,-31.28 170.99,-34.26\"/>\n",
       "<polygon fill=\"black\" stroke=\"black\" points=\"169.95,-37.6 180.54,-37.19 172,-30.91 169.95,-37.6\"/>\n",
       "</g>\n",
       "</g>\n",
       "</svg>\n"
      ],
      "text/plain": [
       "<graphviz.graphs.Digraph at 0x7fc9f06aeee0>"
      ]
     },
     "execution_count": 1,
     "metadata": {},
     "output_type": "execute_result"
    }
   ],
   "source": [
    "import graphviz as gr\n",
    "\n",
    "g = gr.Digraph(graph_attr={\"rankdir\": \"LR\"})\n",
    "g.edge(\"C\", \"A\")\n",
    "g.edge(\"C\", \"B\")\n",
    "g.edge(\"D\", \"A\")\n",
    "g.edge(\"B\", \"E\")\n",
    "g.edge(\"F\", \"E\")\n",
    "g.edge(\"A\", \"G\")\n",
    "\n",
    "g"
   ]
  },
  {
   "cell_type": "markdown",
   "id": "c35f4033-2973-46c9-95e1-5e6801e68da0",
   "metadata": {},
   "source": [
    "The python library `networkx` is good for analysis of and computation on graphs.\n",
    "\n",
    "**Definition:** If $A\\perp B |C$ then $A$ and $B$ are  <u>d-separated</u> given $C$.\n"
   ]
  },
  {
   "cell_type": "code",
   "execution_count": 6,
   "id": "1f1bf610-7157-447b-9cea-1965fe5dc6f6",
   "metadata": {
    "ExecuteTime": {
     "end_time": "2023-06-25T15:09:31.073162Z",
     "start_time": "2023-06-25T15:09:31.068365Z"
    },
    "tags": []
   },
   "outputs": [
    {
     "name": "stdout",
     "output_type": "stream",
     "text": [
      "Are D and C dependent given A?\n",
      "True\n",
      "Are A and B dependent given C?\n",
      "False\n",
      "Are A and B dependent?\n",
      "True\n"
     ]
    }
   ],
   "source": [
    "import networkx as nx\n",
    "\n",
    "model = nx.DiGraph([\n",
    "    (\"C\", \"A\"),\n",
    "    (\"C\", \"B\"),\n",
    "    (\"D\", \"A\"),\n",
    "    (\"B\", \"E\"),\n",
    "    (\"F\", \"E\"),\n",
    "    (\"A\", \"G\"),\n",
    "])\n",
    "\n",
    "print(\"Are D and C dependent given A?\") # Immorality conditioned\n",
    "print(not(nx.d_separated(\n",
    "    G=model, \n",
    "    x= {\"D\"}, y={\"C\"}, \n",
    "    z= {\"A\"} # Hold z fixed. Can be empty set.\n",
    ")))\n",
    "\n",
    "print(\"Are A and B dependent given C?\") # fork conditioned\n",
    "print(not(nx.d_separated(model, {\"A\"}, {\"B\"}, {\"C\"})))\n",
    "\n",
    "print(\"Are A and B dependent?\") # fork, no conditions.\n",
    "print(not(nx.d_separated(model, {\"A\"}, {\"B\"},{})))"
   ]
  },
  {
   "cell_type": "markdown",
   "id": "6b21608b-5d0c-4213-8e12-69ab0954cdc0",
   "metadata": {
    "tags": []
   },
   "source": [
    "## Identification as closing backdoors"
   ]
  },
  {
   "cell_type": "markdown",
   "id": "6b370b2a-1b90-49ff-9694-99535d797874",
   "metadata": {},
   "source": [
    "We want to asses if hiring a consultant has a treatment effect on profits in the next 6 months based on the following causal graph. \n",
    "\n",
    "<img src=\"images/Screenshot 2024-01-04 at 2.37.28 PM.png\" width =\"300\">\n",
    "\n",
    "\n",
    "There are two paths of association between `consultancy` and `profivs_next_6m`;\n",
    "1. directly\n",
    "2. through the fork "
   ]
  },
  {
   "cell_type": "markdown",
   "id": "7a7cee9d-503a-415a-908d-d156c46937a8",
   "metadata": {},
   "source": [
    "**Definition:** A path in a causal graph that gives association between the cause and effect other than the direct path is a <u>back door</u>. \n",
    "\n",
    "Observed association between consultancy and proficts_next_6m can not be attributed to  `consultancy` alone because of this back door. "
   ]
  },
  {
   "cell_type": "markdown",
   "id": "432ba8a7-106b-4d6c-8dc2-7cd7fc43b74d",
   "metadata": {
    "tags": []
   },
   "source": [
    "You will close all undesirable flows of association in your graph in the identification phase of causal inference; conditioning thusly leads to a place where you can make the CIA assumption.\n",
    "\n",
    "In the graph above, one needs to close the back door $X$ so that $(Y_0,Y_1) ⊥T |X$. The causal graph is just a model, and this conditional dependence is always an assumption. \n",
    "\n"
   ]
  },
  {
   "cell_type": "markdown",
   "id": "9072485e-7b90-48dd-8365-5d8957a40436",
   "metadata": {
    "tags": []
   },
   "source": [
    "**Definition:** Closing backdoor paths by adjusting for confounders is <u>backdoor adjustment</u>\n",
    "\n",
    "**Defnition:** The <u>adjustment formula</u> (or conditionality principle) is the pair of equations\n",
    "$$\n",
    "\\begin{array}{ll}\n",
    "ATE_x & = E[Y(1) | X=x] - E[Y(0)|X=x]\\\\\n",
    "      &\\stackrel{CIA}{=} E[Y|T=1,X=x] - E[Y|T=0,X=x], \\\\\n",
    "      ATE &= E_X[ATE_x].\n",
    "\\end{array}\n",
    "$$"
   ]
  },
  {
   "cell_type": "markdown",
   "id": "53c7f41d-4b42-43f7-8bcf-f83871a647b2",
   "metadata": {
    "tags": []
   },
   "source": [
    "Sometimes one but not the other term for $\\text{ATE}_x$ in the adjustment formula is not be emprically estimable because there are no units in the group with $X=x$. \n",
    "\n",
    "**Definition:**  The <u>Positivity Assumption</u> is that there are some units in the treatment and some in the control for each value of $x$. \n",
    "\n",
    "aka \n",
    "- common support assumption \n",
    "- overlap assumption \n",
    "\n",
    "e.g. Three companies have past profit 1M, three have past profit 5M. Three companies have had consulting, three have not."
   ]
  },
  {
   "cell_type": "code",
   "execution_count": 39,
   "id": "adad6e7b-85ff-4b9a-81c9-bc12b9c1b5f0",
   "metadata": {
    "ExecuteTime": {
     "end_time": "2023-06-25T15:09:31.518818Z",
     "start_time": "2023-06-25T15:09:31.507110Z"
    },
    "tags": []
   },
   "outputs": [
    {
     "data": {
      "text/html": [
       "<div>\n",
       "<style scoped>\n",
       "    .dataframe tbody tr th:only-of-type {\n",
       "        vertical-align: middle;\n",
       "    }\n",
       "\n",
       "    .dataframe tbody tr th {\n",
       "        vertical-align: top;\n",
       "    }\n",
       "\n",
       "    .dataframe thead th {\n",
       "        text-align: right;\n",
       "    }\n",
       "</style>\n",
       "<table border=\"1\" class=\"dataframe\">\n",
       "  <thead>\n",
       "    <tr style=\"text-align: right;\">\n",
       "      <th></th>\n",
       "      <th>profits_prev_6m</th>\n",
       "      <th>consultancy</th>\n",
       "      <th>profits_next_6m</th>\n",
       "    </tr>\n",
       "  </thead>\n",
       "  <tbody>\n",
       "    <tr>\n",
       "      <th>0</th>\n",
       "      <td>1.0</td>\n",
       "      <td>0</td>\n",
       "      <td>1.0</td>\n",
       "    </tr>\n",
       "    <tr>\n",
       "      <th>1</th>\n",
       "      <td>1.0</td>\n",
       "      <td>0</td>\n",
       "      <td>1.1</td>\n",
       "    </tr>\n",
       "    <tr>\n",
       "      <th>2</th>\n",
       "      <td>1.0</td>\n",
       "      <td>1</td>\n",
       "      <td>1.2</td>\n",
       "    </tr>\n",
       "    <tr>\n",
       "      <th>3</th>\n",
       "      <td>5.0</td>\n",
       "      <td>0</td>\n",
       "      <td>5.5</td>\n",
       "    </tr>\n",
       "    <tr>\n",
       "      <th>4</th>\n",
       "      <td>5.0</td>\n",
       "      <td>1</td>\n",
       "      <td>5.7</td>\n",
       "    </tr>\n",
       "    <tr>\n",
       "      <th>5</th>\n",
       "      <td>5.0</td>\n",
       "      <td>1</td>\n",
       "      <td>5.7</td>\n",
       "    </tr>\n",
       "  </tbody>\n",
       "</table>\n",
       "</div>"
      ],
      "text/plain": [
       "   profits_prev_6m  consultancy  profits_next_6m\n",
       "0              1.0            0              1.0\n",
       "1              1.0            0              1.1\n",
       "2              1.0            1              1.2\n",
       "3              5.0            0              5.5\n",
       "4              5.0            1              5.7\n",
       "5              5.0            1              5.7"
      ]
     },
     "execution_count": 39,
     "metadata": {},
     "output_type": "execute_result"
    }
   ],
   "source": [
    "df = pd.DataFrame(dict(\n",
    "    profits_prev_6m=[1.0, 1.0, 1.0, 5.0, 5.0, 5.0],\n",
    "    consultancy=[0, 0, 1, 0, 1, 1],\n",
    "    profits_next_6m=[1, 1.1, 1.2, 5.5, 5.7, 5.7],\n",
    "))\n",
    "\n",
    "df"
   ]
  },
  {
   "cell_type": "code",
   "execution_count": 42,
   "id": "e5d54039-6902-4060-b4bf-5ed9d04057fd",
   "metadata": {
    "ExecuteTime": {
     "end_time": "2023-06-25T15:09:31.528085Z",
     "start_time": "2023-06-25T15:09:31.520733Z"
    },
    "tags": []
   },
   "outputs": [
    {
     "name": "stdout",
     "output_type": "stream",
     "text": [
      "The association is 1.666666666666667\n"
     ]
    }
   ],
   "source": [
    "# Association; ATE under ignorable treatment effect assumption. \n",
    "association = (df.query(\"consultancy==1\")[\"profits_next_6m\"].mean() \n",
    "               - df.query(\"consultancy==0\")[\"profits_next_6m\"].mean())\n",
    "print(f\"The association is {association}\")"
   ]
  },
  {
   "cell_type": "markdown",
   "id": "e0b75d84-23a9-40a6-a950-e563489c5b5e",
   "metadata": {},
   "source": [
    "But this is a biased treatment effect because size of company correlates with seeing consultancy. To work toward holding size of the compay constant, that is conditioning on `profits_prev_6m` we groupby."
   ]
  },
  {
   "cell_type": "code",
   "execution_count": 43,
   "id": "6c69fd4d-a33d-4789-a32a-c7ae7a343b15",
   "metadata": {
    "ExecuteTime": {
     "end_time": "2023-06-25T15:09:31.538760Z",
     "start_time": "2023-06-25T15:09:31.529677Z"
    },
    "tags": []
   },
   "outputs": [
    {
     "data": {
      "text/plain": [
       "consultancy  profits_prev_6m\n",
       "0            1.0                1.05\n",
       "             5.0                5.50\n",
       "1            1.0                1.20\n",
       "             5.0                5.70\n",
       "Name: profits_next_6m, dtype: float64"
      ]
     },
     "execution_count": 43,
     "metadata": {},
     "output_type": "execute_result"
    }
   ],
   "source": [
    "avg_df = (df\n",
    "          .groupby([\"consultancy\", \"profits_prev_6m\"])\n",
    "          [\"profits_next_6m\"]\n",
    "          .mean()\n",
    "         )\n",
    "avg_df"
   ]
  },
  {
   "cell_type": "code",
   "execution_count": 44,
   "id": "e2f297de-ed6a-447c-ac64-00eebc5848fa",
   "metadata": {
    "ExecuteTime": {
     "end_time": "2023-06-25T15:09:31.538760Z",
     "start_time": "2023-06-25T15:09:31.529677Z"
    },
    "tags": []
   },
   "outputs": [
    {
     "data": {
      "text/plain": [
       "profits_prev_6m\n",
       "1.0    1.05\n",
       "5.0    5.50\n",
       "Name: profits_next_6m, dtype: float64"
      ]
     },
     "execution_count": 44,
     "metadata": {},
     "output_type": "execute_result"
    }
   ],
   "source": [
    "# Filter for consultancy=0\n",
    "avg_df.loc[0] "
   ]
  },
  {
   "cell_type": "code",
   "execution_count": 45,
   "id": "94b389a0-777e-485e-bc06-b2bc20ffdc8a",
   "metadata": {
    "ExecuteTime": {
     "end_time": "2023-06-25T15:09:31.538760Z",
     "start_time": "2023-06-25T15:09:31.529677Z"
    },
    "tags": []
   },
   "outputs": [
    {
     "name": "stdout",
     "output_type": "stream",
     "text": [
      "ATE_($1.0M) = E[Y|T=0,X=1.0] - E[Y|T=1,X=1.0] = $0.1499999999999999M\n",
      "ATE_($5.0M) = E[Y|T=0,X=5.0] - E[Y|T=1,X=5.0] = $0.20000000000000018M\n",
      "ATE = $0.17500000000000004M\n"
     ]
    }
   ],
   "source": [
    "# Change in average profit with respect to consulting.\n",
    "delta_profit = avg_df.loc[1] - avg_df.loc[0] \n",
    "for i in delta_profit.index:\n",
    "    print(f\"ATE_(${i}M) = E[Y|T=0,X={i}] - E[Y|T=1,X={i}] = ${delta_profit[i]}M\")\n",
    "ATE = delta_profit.mean()\n",
    "print(f\"ATE = ${ATE}M\")"
   ]
  },
  {
   "cell_type": "markdown",
   "id": "26f5e633-22b4-4a5d-a283-b5b393380332",
   "metadata": {},
   "source": [
    "So, the back door adjustment takes us from $\\$1.67M$  to $\\$175k$, an order of magnitude."
   ]
  },
  {
   "cell_type": "markdown",
   "id": "fbdec429-0e60-45bd-9e8e-bcadde597ba6",
   "metadata": {},
   "source": [
    "Front door adjustments also exist but are not commonly needed. "
   ]
  },
  {
   "cell_type": "markdown",
   "id": "3521c8a3-f741-40e0-a481-f09d589c6201",
   "metadata": {
    "tags": []
   },
   "source": [
    "## Confounding Bias \n",
    "\n",
    "Confounding is a form of bias. It usually happens when T and Y shave a common cause forming a back door through a fork with T and Y as terminal nodes. "
   ]
  },
  {
   "cell_type": "markdown",
   "id": "f9182b40-020c-45e6-a063-324d991a3b39",
   "metadata": {},
   "source": [
    "<img src=\"images/Screenshot 2024-01-04 at 2.37.28 PM.png\" width =\"300\">"
   ]
  },
  {
   "cell_type": "markdown",
   "id": "471bf665-a441-42d3-a5cc-c584608facbb",
   "metadata": {},
   "source": [
    "If you can't observe a confounding variable, then you can't condition on it. "
   ]
  },
  {
   "cell_type": "markdown",
   "id": "393ae82d-42b1-488c-9b64-f3d72cfc37f7",
   "metadata": {},
   "source": [
    "### Surrogate Confounding\n",
    "\n",
    "Sometimes there is a counfounding variable that you can not observe, you have other observables that can act as proxies; example, you can’t measure manager quality, but you can measure \n",
    "- some of its causes, like \n",
    "    - the manager’s tenure or \n",
    "    - level of education; and \n",
    "- some of its effects, like \n",
    "    - the team’s attrition or performance.\n",
    "    \n",
    "Controlling for those surrogate variables may partially or completely eliminate confounding bias from an unobservable confounding."
   ]
  },
  {
   "cell_type": "markdown",
   "id": "30ba7b4c-5349-421b-bc0d-4cef68b72d1e",
   "metadata": {},
   "source": [
    "## Selection bias\n",
    "\n",
    "Selection bias happens when you condition on a common effect. In the diagram below, $S$ is a common effect of $T$ and $Y$."
   ]
  },
  {
   "cell_type": "markdown",
   "id": "c3db7593-1eba-4fc9-9e06-acfe49f1199f",
   "metadata": {},
   "source": [
    "<img src=\"images/common_effect.svg\" width=\"300\">"
   ]
  },
  {
   "cell_type": "markdown",
   "id": "be3ae075-71c2-449e-acba-91ef8a93a142",
   "metadata": {},
   "source": [
    "e.g. Satisfied customers are more likely to answer a survey, so if \n",
    "- treatment is a new feature on an app (A/B tested)\n",
    "- outcome ($Y$) is customer satisfaction\n",
    "- measurement of treatment effect ($\\delta Y$)is an optional survey \n",
    "\n",
    "Then \n",
    "1. those given the treatment are more likely to take the survey, $T\\to S$  \n",
    "2. those that are more satisfied are more likely to take the survey\n",
    "\n",
    "Then the survey is a collider, and if you take into account only those that respond to the survey then you are conditioning on the survey. This allows a back door from T to Y. This is selection bias.x"
   ]
  },
  {
   "cell_type": "markdown",
   "id": "d2e0eec4-1912-4516-86ec-16224d7c14ad",
   "metadata": {},
   "source": [
    "Note: There isn’t a consensus in the literature on the names of biases. some scientists like to further segment what I’m calling selection bias into collider bias and mediator bias. \n",
    "\n",
    "Selection bias is what Fraser called pretreatment heterogeneity bias but conditioned on some collider $S$; do the treatment group and non-treatment group have different no-treatment potential outcomes?\n",
    "$$\n",
    "\\text{PHB} = \\text{Selection Bias} = E[Y_0 | T=0,S=1] −E[Y_0| T=1,S=1].\n",
    "$$"
   ]
  },
  {
   "cell_type": "markdown",
   "id": "4596c9e2-5057-4597-8205-a28f2fdfd5be",
   "metadata": {},
   "source": [
    "### Adjusting for Selection Bias\n",
    "tldr; change you graphical causal model."
   ]
  },
  {
   "cell_type": "markdown",
   "id": "0caab9e1-dc7c-4f2b-9642-56849615891e",
   "metadata": {},
   "source": [
    "In the example, you can’t close the noncausal flow of association between the new feature and customer satisfaction by conditioning on those who responded to the survey because you only have data from the respondants, and no data from the non-responders. "
   ]
  },
  {
   "cell_type": "markdown",
   "id": "a356785c-e642-4ccb-8254-7a6041d2dbc6",
   "metadata": {},
   "source": [
    "<img src=\"images/cant_close.svg\" width=\"300\">"
   ]
  },
  {
   "cell_type": "markdown",
   "id": "d501fd54-3ddf-43cc-b01d-79485714c4d4",
   "metadata": {},
   "source": [
    "To make some progress, you need to make further assumptions. For instance, you need to assume that customer satisfaction doesn’t cause customers to be more or less likely to answer the survey. Instead, you would have some other observable variable (or variables) that cause both selection and the outcome. This means modifying the graph. This is a change of your graphical causal model. "
   ]
  },
  {
   "cell_type": "markdown",
   "id": "d09d25a4-5083-417d-92e8-f93bb073beaa",
   "metadata": {},
   "source": [
    "For example, it could be that the only thing that causes customers to respond to the survey is the time they spend in the app and the new feature."
   ]
  },
  {
   "cell_type": "markdown",
   "id": "d3b5b44d-0e1b-4823-a4e1-2e23b421f98d",
   "metadata": {},
   "source": [
    "<img src=\"images/time_causes_response.svg\" width=\"300\">"
   ]
  },
  {
   "cell_type": "markdown",
   "id": "17097d39-8065-43d1-af03-832c9395361f",
   "metadata": {},
   "source": [
    "This modification is an assumption. Only expert knowledge will be able to tell how strong an assumption. Conditioning on `time_in_app` $= X$ means calculating \n",
    "\n",
    "$$\n",
    "ATE_x = E[Y|T=1,S=1,X=x]−E[Y|T=0,S=1,X=x]\\\\\n",
    "ATE=\\sum_x ATE_x P(X=x|S=1)\n",
    "$$"
   ]
  },
  {
   "cell_type": "markdown",
   "id": "4e8ad4e7-86fc-48d3-9e73-345a85110316",
   "metadata": {},
   "source": [
    "Generally speaking, to adjust for selection bias, you have to \n",
    "1. adjust -you causal graphical model for whatever causes selection so that you\n",
    "2. assume that neither the outcome nor the treatment \n",
    "    - causes selection directly or \n",
    "    - shares a hidden common cause with selection."
   ]
  },
  {
   "cell_type": "markdown",
   "id": "2fa01c10-77c7-4db9-aa2e-17dc11f20837",
   "metadata": {},
   "source": [
    "### Conditioning on a Mediator\n",
    "\n",
    "You can also cause selection bias inadvertently. "
   ]
  },
  {
   "cell_type": "markdown",
   "id": "0bd2eeb9-bbc3-4aa5-9ac5-86bcb6ac3242",
   "metadata": {},
   "source": [
    "<img src=\"images/two_paths.svg\">"
   ]
  },
  {
   "cell_type": "markdown",
   "id": "ac238606-2b94-4ec0-845d-92973f6bab4f",
   "metadata": {},
   "source": [
    "Here, if you are trying to calculate the treatment effect of gender on sallary, conditioning on seniority finds the ATE of gender directly on salary, eliminates the indirect path through promotion/seniority, and actually remove some of what you want. \n",
    "\n",
    "\n",
    "\n"
   ]
  },
  {
   "cell_type": "markdown",
   "id": "e9cb6940-b6f3-4504-b1b4-4c46dcfd7750",
   "metadata": {},
   "source": [
    "This is not crystal clear, but the general idea that I want to know the sum of the treatment effects from T and M makes sense. "
   ]
  },
  {
   "cell_type": "markdown",
   "id": "7a426ea9-d80f-4e13-b01d-9872064b6445",
   "metadata": {},
   "source": []
  },
  {
   "cell_type": "markdown",
   "id": "23ec9e24-9619-419c-be0a-9fb14710047a",
   "metadata": {},
   "source": []
  },
  {
   "cell_type": "markdown",
   "id": "9b34d47d-d781-4696-8177-42a536d3c20b",
   "metadata": {},
   "source": []
  },
  {
   "cell_type": "markdown",
   "id": "95fe3121-9909-4f49-bd98-e9a8c8ddad7f",
   "metadata": {},
   "source": []
  },
  {
   "cell_type": "markdown",
   "id": "7a787f48-4395-4c93-a9b1-5c98a81159f9",
   "metadata": {},
   "source": []
  },
  {
   "cell_type": "markdown",
   "id": "50bc94e2-ed72-4867-983d-29c5c837da77",
   "metadata": {},
   "source": []
  },
  {
   "cell_type": "markdown",
   "id": "f012e1fa-99c6-4ce8-bf05-64eed2246773",
   "metadata": {},
   "source": []
  },
  {
   "cell_type": "markdown",
   "id": "bde0c87f-ae36-49ed-ac24-24bcced1beba",
   "metadata": {},
   "source": []
  }
 ],
 "metadata": {
  "kernelspec": {
   "display_name": "Python 3 (ipykernel)",
   "language": "python",
   "name": "python3"
  },
  "language_info": {
   "codemirror_mode": {
    "name": "ipython",
    "version": 3
   },
   "file_extension": ".py",
   "mimetype": "text/x-python",
   "name": "python",
   "nbconvert_exporter": "python",
   "pygments_lexer": "ipython3",
   "version": "3.9.18"
  }
 },
 "nbformat": 4,
 "nbformat_minor": 5
}
