{
 "cells": [
  {
   "cell_type": "markdown",
   "id": "290dcc28-c497-4b74-a1db-ea2bee0eaaa1",
   "metadata": {
    "tags": []
   },
   "source": [
    "# Part IV Panel Data\n",
    "# Ch 8 Differences-in-Differences"
   ]
  },
  {
   "cell_type": "markdown",
   "id": "e6255a5f-dfa0-4368-9e93-e2c956ee4c60",
   "metadata": {},
   "source": [
    "David Card won the Nobel prize in 2021 for DID analysis debunking the intuitive claim that increasing minimum wage increases unemployment using data from New Jersy and Pennsylvania when former changed its minimum wage. "
   ]
  },
  {
   "cell_type": "markdown",
   "id": "afb56176-09b0-43d7-b397-d72ee9d49534",
   "metadata": {
    "tags": []
   },
   "source": [
    "So far we have treated all data like it is the following kind.\n",
    "\n",
    "**Definition:** <u>Cross-sectional</u> data is characterized by each unit appearing only once.\n",
    "\n",
    "In this section we study the following.\n",
    "\n",
    "**Definition:**  <u>Panel data</u> is characterized by units having several observations across time.\n",
    "\n",
    "aka <u>longitudinal data</u>.\n",
    "\n",
    "In panel data you can see what happens before and after treatment.  "
   ]
  },
  {
   "cell_type": "markdown",
   "id": "a8bf3314-dea0-4b60-8a13-cf86298b4ab7",
   "metadata": {},
   "source": [
    "In previous chapters we treated repeated observation data as cross sectional (restaraunt discount causing sales). This is sometimes referred to as pooled cross-section.\n",
    "\n",
    "\n",
    "\n",
    "There are categories that fall between the two.\n",
    "\n",
    "**Definition:** In <u>pooled cross-section data</u> one treats repeated observations of units as cross sectional. \n",
    "\n",
    "For example, in the restaraunt example we considered the treatment effect ($ATE$) in sales (outcome $Y$) when we thought of the day of the week on which a discount was offered as treatment value ($T$).\n",
    "\n",
    "**Definition:** In <u>repeated cross-sectional data</u> there are multiple time entries, but the units in each entry are not necessarily the same. \n",
    "\n",
    "Me: If $S_b$ is the sample of units from before a treatment of a population, and $S_A$ is a sample from the same population after the treatment of a population, and $\\S_a \\cap S_b = \\{\\}$, then you have repeated cross sectional data. \n",
    " \n"
   ]
  },
  {
   "cell_type": "markdown",
   "id": "9bad351e-239c-4d15-81c2-4d5cdd2ff28a",
   "metadata": {},
   "source": [
    "## Panel Data\n",
    "\n",
    "You often can’t control who sees your advertisements, especially in  offline marketing. Did placing some billboards in a city brings value in excess of its costs? Try geo-experiments: deploy a marketing campaign to some geographical region but not others and compare them with panel data methods. The unit is then a geographic area, and we make observations across time. \n",
    "\n",
    "### Notation and Terminology:\n",
    "\n",
    "- $t$ is time stamp, aka periods \n",
    "- $T$ is the number of periods\n",
    "- $T_{\\text{pre}}$ is the number of periods before intervention\n",
    "    - the others are called post intervention periods \n",
    "- $\\text{Post}=1$ when $t>T_{\\text{pre}}$ (i.e. $\\text{Post}$ is a dummy variable)\n",
    "- $D=1$ denotes treatment.\n",
    "- $W = D\\mathbb{1}(t>T_{\\text{pre}}) = D \\text{Post}$ is the conjuction of treatment and post, $W_i =1$ indicating that treatment has been given to this unit."
   ]
  },
  {
   "cell_type": "markdown",
   "id": "fc679dec-dcc4-4925-bac6-9024dd1251ad",
   "metadata": {},
   "source": [
    "**Definition:** In panel data literature treatment is referred to as an <u>intervention</u>. "
   ]
  },
  {
   "cell_type": "markdown",
   "id": "d4501059-b13e-4ce6-abc4-650c44574d8e",
   "metadata": {},
   "source": [
    "ATT is the quantity of interest in panel data applications. To see why, in the image below $Y(0)$ is observable in 3 out of 4 options. In the one where it is not observable you have correlations that allow imputation of $Y(0)|D=1,\\text{Post}=1$. \n",
    "- it is easy to impute the following from the other 3 quadrants' observables\n",
    "    -  $Y(0)|D=1,\\text{Post}=1$  (upper right)\n",
    "- it is hard to impute all three of of the following from the remaining 1 quadrant's observable\n",
    "    - $Y(1)|D=1,\\text{Post}=0$  (upper left)\n",
    "    - $Y(1)|D=0,\\text{Post}=0$  (lower left)\n",
    "    - $Y(1)|D=0,\\text{Post}=1$  (lower right)\n"
   ]
  },
  {
   "cell_type": "markdown",
   "id": "85f869fc-ff67-4d58-8248-c6fc3cbcac12",
   "metadata": {},
   "source": [
    "<img src=\"images/panel_data_factuals.png\" width=\"300\">"
   ]
  },
  {
   "cell_type": "markdown",
   "id": "f4b367bd-9ca6-4219-a9ce-e4b4be13b474",
   "metadata": {},
   "source": [
    "## ATT \n",
    "Goal: You want to understand the effect of the offline marketing campaign on the cities that got treated, after the treatment takes place:\n",
    "$$\n",
    "ATT:=\\color{green}{E[Y(1) | D=1,\\text{Post}=1]} −\\color{red}{E[Y(0)| D=1,\\text{Post}=1]}\n",
    "$$"
   ]
  },
  {
   "cell_type": "markdown",
   "id": "07dbb63c-c812-4278-a7a6-b24f691fa028",
   "metadata": {},
   "source": [
    "The first term is observable since $Y_{it}( 1)$ is observable. \n",
    "The second term need to be identified. "
   ]
  },
  {
   "cell_type": "markdown",
   "id": "729a2906-eaa7-4604-a54d-27003f81a3c2",
   "metadata": {},
   "source": [
    "## Canonical Difference-in-Differences"
   ]
  },
  {
   "cell_type": "markdown",
   "id": "cc914b48-1adc-40fe-904e-8ffc9e0bc259",
   "metadata": {},
   "source": [
    "Consider the following image in which the slope of the potential outcome $Y(0)$ is the same for the treated and untreated; we want to identify the unobservable red point."
   ]
  },
  {
   "cell_type": "markdown",
   "id": "aa6cff54-feda-432e-893f-ec952767a7eb",
   "metadata": {},
   "source": [
    "<img src=\"images/DID_identification.JPG\" width=\"300\"> "
   ]
  },
  {
   "cell_type": "markdown",
   "id": "ad3fdf78-1051-464e-80dd-b99102d7e383",
   "metadata": {},
   "source": [
    "The following identification is made under the assumption that the slope of the potential outcome $Y(0)$ is the approximately same for the treated and untreated groups."
   ]
  },
  {
   "cell_type": "markdown",
   "id": "0a5f8b5a-e456-415c-b91c-f5400029c44c",
   "metadata": {},
   "source": [
    "The unobservable $\\color{red}{E[Y(0)| D=1,\\text{Post}=1]}$ is approximately the sum of\n",
    "- pre-treatment baseline for treated units $\\color{magenta}{E[Y(0)|D=1,Post =0]}$\n",
    "- the time evolution from control $\\delta = \\color{blue}{E[Y(0)|D=0,\\text{Post}=1]} - \\color{purple}{E[Y(0)|D=0,\\text{Post} = 0]}$"
   ]
  },
  {
   "cell_type": "markdown",
   "id": "3a1b5f94-ab32-4177-8e76-9f7ca791cdad",
   "metadata": {},
   "source": [
    "In each of those three terms the potential outcome in the expectation $Y(0)$ is the observable. Thus in moving to emperical expectation we can drop the $(0)$.\n",
    "That is \n",
    "$$\n",
    "\\begin{array}{ll}\n",
    "\\color{red}{E[Y(0) | D =1, Post=0] }&\n",
    "    \\approx \\color{magenta}{ \\hat E[Y|D=1,\\text{Post}=0]}\\\\\n",
    "    &+( \\color{blue}{\\hat E[Y|D=0,\\text{Post}=1]} \n",
    "        - \\color{purple}{\\hat E[Y|D=0,\\text{Post} = 0]})\n",
    "\\end{array}\n",
    "$$"
   ]
  },
  {
   "cell_type": "markdown",
   "id": "3dc5deb2-78f2-48c0-8706-8d492b45335a",
   "metadata": {},
   "source": [
    "Similarly in the green term $Y(1)$ is the factual, so it can be replaced by $Y$ in the emperical estimate.\n",
    "If this is substituted into ATE the reult is a difference in differences\n",
    "$$\n",
    "\\begin{array}{lll}\n",
    "\\text{ATT} \n",
    "    & \\approx (\\color{green}{\\hat E[Y | D=1,\\text{Post}=1]} \n",
    "        - \\color{magenta}{ \\hat  E[Y|D=1,\\text{Post}=0])}\n",
    "            & \\text{treated pre-post difference}\\\\\n",
    "    & \\, -( \\color{blue}{\\hat E[Y|D=0,\\text{Post}=1]} \n",
    "        - \\color{purple}{\\hat E[Y|D=0,\\text{Post} = 0]})\n",
    "            & \\text{untreated pre-post difference}\n",
    "\\end{array}\n",
    "$$"
   ]
  },
  {
   "cell_type": "markdown",
   "id": "b3d1862c-8840-458e-850a-e09ce1484b9a",
   "metadata": {},
   "source": [
    "To obtain the data for this calculation with pandas\n",
    "1. group by `post`\n",
    "2. group by `treated`\n",
    "3. aggregate by the mean of the outcome \n",
    "\n",
    "In what follows he also keeps the minimum date\n",
    "```python\n",
    "did_data = (mkt_data\n",
    "            .groupby([\"D\", \"post\"])\n",
    "            .agg({\"Y\":\"mean\", \"date\": \"min\"}))\n",
    "```"
   ]
  },
  {
   "cell_type": "markdown",
   "id": "a4baa5a2-3d50-48b0-a66c-d28e81a5d0ff",
   "metadata": {},
   "source": [
    "ME: note that DID can be viewed as a second (discrete) derivative\n",
    "$$\n",
    "\\text{ATT} = \\frac{\\partial^2}{\\partial D \\partial \\,\\text{post}} E[Y|D,\\text{post}]\n",
    "$$"
   ]
  },
  {
   "cell_type": "markdown",
   "id": "916487a0-86e6-4198-b4c0-7edb0c9b7a91",
   "metadata": {},
   "source": [
    "### DID as Outcome Growth Diff\n",
    "Here is another way to think of DID. \n",
    "\n",
    "**Definition:** The <u>difference in the outcome across time</u> for unit $i$ is $Δy_i = E[ y_i |\\text{Post} =1 ]− E[ y_i | \\text{Post}=0]$."
   ]
  },
  {
   "cell_type": "markdown",
   "id": "9728ce1c-9d8d-41b9-864b-4e6087913085",
   "metadata": {},
   "source": [
    "Each line of the DID above, treated pre-post diff and untreated pre-post diff, are both differences in outcome across time, but for different treatment $D$. \n",
    "That is, the DID estimate of ATT is\n",
    "$$\n",
    "\\begin{array}{ll}\n",
    "\\text{ATT} & := E[Y(1) | D=1,\\text{Post}=1] −E[Y(0)| D=1,\\text{Post}=1]\\\\\n",
    "           & \\stackrel{\\text{DID}}{\\approx} E_i[ Δy_{i,D=1} − Δy_{i,D=0} ] \\\\\n",
    "           & \\stackrel{\\text{emperical}}{\\approx} E [Δy | D = 1 ]− E [Δy | D = 0]\n",
    "\\end{array}\n",
    "$$\n",
    "where going to an emperical observation takes advantage of the fact that the terms match up with the observable quantities. "
   ]
  },
  {
   "cell_type": "markdown",
   "id": "74afe623-fba5-4f2c-a77e-6868a1cfa2cf",
   "metadata": {},
   "source": [
    "### DID OLS\n",
    "\n",
    "$$\n",
    "Y_{it} = β_0 + β_1 D_i + β_2 \\text{Post}_t + β_3 D_i \\text{Post}_t + e_{it}\n",
    "$$"
   ]
  },
  {
   "cell_type": "markdown",
   "id": "3604456d-c3f8-4356-ac23-6f8a1985d082",
   "metadata": {},
   "source": [
    "The parameter estimate $\\hat{\\beta}_3 \\approx \\text{ATT}$ (in agreement with my second derivative idea)."
   ]
  },
  {
   "cell_type": "markdown",
   "id": "1a560ddb-5d15-4a7e-b239-0302ef946b9d",
   "metadata": {},
   "source": [
    "Each of the four DID terms is a different sum of $\\beta$ coefficients\n"
   ]
  },
  {
   "cell_type": "markdown",
   "id": "79b4efc9-fa7a-4b21-84c0-f85909c20409",
   "metadata": {},
   "source": [
    "$$\n",
    "\\begin{array}{lll}\n",
    "\\text{ATT} & \\approx (E[Y | D=1,\\text{Post}=1] - E[Y|D=1,\\text{Post}=0])& \\text{treated pre-post difference}\\\\\n",
    "    &\\,-(E[Y|D=0,\\text{Post}=1] - E[Y|D=0,\\text{Post} = 0])& \\text{untreated pre-post difference} \\\\\n",
    "    & = (\\beta_0 + \\beta_1+\\beta_2 +\\beta_3) - (\\beta_0 +\\beta_1) \\\\\n",
    "    &- [(\\beta_0 + \\beta_2) - \\beta_0]\\\\\n",
    "    &=\\beta_3\n",
    "\\end{array}\n",
    "$$"
   ]
  },
  {
   "cell_type": "markdown",
   "id": "1c8aae19-7bc5-4245-9b55-967907161c8b",
   "metadata": {},
   "source": [
    "### Diff-in-Diff with Fixed Effects\n",
    "\n",
    "This is another way to think about DID; time- and unit-fixed effect model (two- way fixed effects or TWFE). \n",
    "\n",
    "Model\n",
    "$$\n",
    "Y_{it} = τ W_{it} + α_i + γ_t + e_{it}\n",
    "$$"
   ]
  },
  {
   "cell_type": "markdown",
   "id": "87be64c1-2bcb-4722-b6bb-318dff023616",
   "metadata": {},
   "source": [
    "where \n",
    "- $W = D_i \\text{Post}_i$\n",
    "- $\\tau$ is treatment effect, it will match ATT from OLS \n",
    "- $\\alpha_i$ is unit fixed effect\n",
    "- $\\gamma_t$ is time fixed effects"
   ]
  },
  {
   "cell_type": "markdown",
   "id": "c316386c-2583-4dc4-8eec-1ca4eefe9443",
   "metadata": {},
   "source": [
    "### Multiple Time Periods\n",
    "\n",
    "**Definition:** In a  <u>block design</u> a comparison is made between (i) a group of units that are never treated and (ii) a group of units that are eventually treated at the same time period.\n",
    "\n",
    "That is, you can’t have the treatment rolling out to units at different moments, giving this block form for $W(t)$ "
   ]
  },
  {
   "cell_type": "markdown",
   "id": "31dea8d6-685a-415d-ab2a-40421cd60a40",
   "metadata": {},
   "source": [
    "<img src=\"images/block.png\" width=\"300\">"
   ]
  },
  {
   "cell_type": "markdown",
   "id": "ad6dc6e7-bd59-459f-84c7-523cc4b1a2df",
   "metadata": {},
   "source": [
    "### DID Causal Inference \n",
    "\n",
    "The CI's for $\\text{ATE} = \\tau$ from the regression methods just dicussed are probably wrong due to \n",
    "- having multiple points for $i$ with $\\text{Post}=0$. \n",
    "- having multiple points for $i$ with $\\text{Post}=1$. \n",
    "\n",
    "The $NT$ data points are not IDD. The correct standard error will come from treating your samle size as $N$ for $N$ clutsers each of size $T$.\n",
    "\n",
    "Statsmodel's fit methods provide the KWARG ```cov_type=\"cluster\"```. \n",
    "\n",
    "ChatGPT says the Statsmodels fit options for `cov_type` include\n",
    "1. \"nonrobust\": This is the default option. It calculates standard errors using the observed information matrix assuming homoscedasticity and no correlation between observations. It does not account for heteroscedasticity or correlation in the data.\n",
    "4. \"cluster\": This option allows for cluster-robust standard errors. It computes standard errors that account for clustering of observations. You need to specify the clustering structure using another parameter, \n",
    "\n",
    "While I do not see that other parameter, I get the general idea:\n",
    "Clustering the errors will give you wider confidence intervals than no clustering at all. "
   ]
  },
  {
   "cell_type": "markdown",
   "id": "7f1f10ec-3db3-4fd6-898a-0011b7842469",
   "metadata": {},
   "source": [
    "```python\n",
    "In[]:\n",
    "    # with clustering\n",
    "    m = smf.ols(\n",
    "        'downloads ~ treated:post + C(city) + C(date)', data=did_data\n",
    "    ).fit(cov_type='cluster', cov_kwds={'groups': did_data['city']})\n",
    "\n",
    "    print(\"ATT:\", m.params[\"treated:post\"])\n",
    "    CI =m.conf_int().loc[\"treated:post\"].values\n",
    "    width = CI[1]-CI[0]\n",
    "    print(f\"CI: {CI} of width {width}\")\n",
    "```\n",
    "```text\n",
    "out[]: \n",
    "    ATT: 0.6917359536407139\n",
    "    CI: [0.29610141 1.0873705 ] of width 0.7912690882307024\n",
    "```"
   ]
  },
  {
   "cell_type": "markdown",
   "id": "f55561d0-b56a-42b0-9be5-8981896ceec6",
   "metadata": {},
   "source": [
    "```python\n",
    "# Without clustering\n",
    "mod = smf.ols('downloads ~ treated:post + C(city) + C(date)',data=mkt_data )\n",
    "m=mod.fit()\n",
    "\n",
    "print(\"ATT:\", m.params[\"treated:post\"])\n",
    "CI = m.conf_int().loc[\"treated:post\"].values\n",
    "width = CI[1]-CI[0]\n",
    "print(f\"CI: {CI} of width {width}\")\n",
    "```\n",
    "```text\n",
    "ATT: 0.6917359536407139\n",
    "CI: [0.47801441 0.9054575 ] of width 0.4274430848117712\n",
    "```"
   ]
  },
  {
   "cell_type": "markdown",
   "id": "546f5f4b-e5a6-4160-9334-dc75273e89c1",
   "metadata": {},
   "source": [
    "Note that if you want to bootstrap \n",
    "you need to sample (with replacement) the entire unit, where now a unit is a cluster. This procedure is called <u>block bootstrap</u>. "
   ]
  },
  {
   "cell_type": "markdown",
   "id": "5b87af26-9061-4e70-bd60-ed7cfa888625",
   "metadata": {},
   "source": [
    "## Identification Assumptions\n",
    "\n",
    "it’s time to dig a little deeper into what kind of assumptions you were making when using DID.\n",
    "\n",
    "### Parallel trends Assumption\n",
    "\n",
    "If all you have was unit treatment assignments (no time dimension), \n",
    "- use the $Y|D=0$ to estimate the counterfactual $Y(0)|D=1$\n",
    "If all you had was time dimension, but no control group (all units were treated at some point in time), you \n",
    "- use the past $Y|\\text{Post} = 0 ,D=1$ from the treated units in a sort of before and after comparison to $Y|\\text{Post} = 1 ,D=1$"
   ]
  },
  {
   "cell_type": "markdown",
   "id": "80fd4ff7-11a2-448f-aa8b-500ce9c3ca0a",
   "metadata": {},
   "source": [
    "Difference-in-differences makes a weaker assumption.\n",
    "\n",
    "**Definition:** The <u>parallel trends</u> assumption is that the trajectory of outcomes across time would be the same, on average, for treatment and control groups, in the absence of the treatment;\n",
    "$E[\\color{red}{Y(0)_{i t=1}}−Y(0)_{it=0} |  D=1] =E[Y(0)_{i t=1}−Y(0)_{it=0} | D=0]$."
   ]
  },
  {
   "cell_type": "markdown",
   "id": "0a77e93d-b4de-4a76-b1bd-d3b3f85e61fb",
   "metadata": {},
   "source": [
    "This assumption is untestable because it contains a term that is nonobservable: $E [Y (0)_{it = 1} | D = 1 ]$."
   ]
  },
  {
   "cell_type": "markdown",
   "id": "639ff6e3-4227-463d-bb3d-1d4c72d78791",
   "metadata": {},
   "source": [
    "I discussed this assumption above. "
   ]
  },
  {
   "cell_type": "markdown",
   "id": "55486fe2-fecd-44fd-9fb5-c67d30b7f26f",
   "metadata": {},
   "source": [
    "<img src=\"images/DID_identification.jpg\" width=\"300\">"
   ]
  },
  {
   "cell_type": "markdown",
   "id": "165574d2-7469-49e9-8b38-4b5cc6ce5096",
   "metadata": {},
   "source": [
    "Here I visualize violations. \n",
    "\n",
    "<img src=\"images/parallel_trends_violations.JPG\" width=\"400\">\n"
   ]
  },
  {
   "cell_type": "markdown",
   "id": "46e1b18f-1937-44f7-b1cc-a60fdd0c59e6",
   "metadata": {},
   "source": [
    "Note that the parallel trends assumption is not scale invariant; if you non-linearly rescale data you can eliminate parallel trends. “When Is Parallel Trends Sensitive to Functional Form?” by Jonathan Roth and Pedro Sant’Anna derive a more strict version of parallel trends that is invariant to monotonic transfor‐ mation of the outcome and discuss in which situation that assump‐ tion is plausible.\n"
   ]
  },
  {
   "cell_type": "markdown",
   "id": "c4dc7610-32d6-4da5-bf42-dad9de313c91",
   "metadata": {},
   "source": [
    "Comparison: \n",
    "- CIA states that the level of Y 0 is the same, on average, in the treated and control groups when confounding factors are held constant $Y(0) \\perp D |X$\n",
    "- parallel trends states that the growth of Y 0 is the same between treated and control groups; $\\Delta Y(0)\\perp D$. (there is no cnditional part here.)"
   ]
  },
  {
   "cell_type": "markdown",
   "id": "5cc21771-9583-43de-8d23-83c73121ed1a",
   "metadata": {},
   "source": [
    "Here lies the power of panel data: even if the treatment is not randomly assigned, so long as the treated and control groups have the same potential outcome growth, the ATT can be identified."
   ]
  },
  {
   "cell_type": "markdown",
   "id": "34776f9a-36cf-4316-b6a3-8cf5d232493b",
   "metadata": {},
   "source": [
    "you can relax the parallel trend assump‐ tion to be conditioned on covariates; $\\Delta Y(0)\\perp D|X$"
   ]
  },
  {
   "cell_type": "markdown",
   "id": "55b17f6f-9afc-4976-9497-c619eb8722ca",
   "metadata": {},
   "source": [
    "### No Anticipatoin Assumption\n",
    "\n",
    "the no anticipation assumption is more related to the stable unit of treatment value assumption (SUTVA);SUTVA violations happen when the effect spills over from treatment into the control units or vice versa.\n",
    "\n",
    "Anticipation is when the effect spills over to periods when the treatment hasn’t yet taken place. \n",
    "\n",
    "SUTVA is still a big issue in panel data analysis, especially when the unit is a geographic region\n",
    "\n",
    "Now we will talk about three assumptions that are all implied byt the techical and obscure condition called strict exogeny\n",
    "\n",
    "### 1 No Time Varying Confounders\n",
    "\n",
    "Confounders need to be constant over time\n",
    "\n",
    "by zooming in on a unit and tracking how it evolves over time, you are already controlling for anything that is fixed over time. That includes any time-fixed confounders, even those that are unmeasured. "
   ]
  },
  {
   "cell_type": "markdown",
   "id": "30268408-5c24-4dc0-89ba-0ad1c1b31b7e",
   "metadata": {},
   "source": [
    "### 2 No Feedback\n",
    "\n",
    "treatment cannot be decided based on the outcome trajectory.\n",
    "\n",
    "to condition on past outcomes, you need to look into methods that work under sequential ignorability.... There is more and more to causal infrence "
   ]
  },
  {
   "cell_type": "markdown",
   "id": "ee9c3f18-0de8-4d14-85a2-06b62719242f",
   "metadata": {},
   "source": [
    "### 3 no carryonver \n",
    "\n",
    "Nto condition on past outcomes, you need to look into methods that work under sequential ignorability.\n",
    "\n",
    "me e.g. previous ad campaigns when you are trying to measure the effect of the most recent.\n",
    "\n",
    "This can be relaxed, if you believe that treatment at period t − 1 impacts the outcome at time t, you can use the following model:\n",
    "$Y_{it} =τ_{it}W_{it}+θ W_{i,t−1}+α_i+γ_t+e_{it}$.\n",
    "\n",
    "\n",
    "Also no lagged dependent variable, meaning that past out‐ come doesn’t directly cause current outcome."
   ]
  },
  {
   "cell_type": "markdown",
   "id": "af3662bd-19d9-48e5-8e83-39de2055ccda",
   "metadata": {},
   "source": [
    "## Effect Dynamics over Time \n",
    "\n",
    "Often, it takes some time for the treatment to reach its full effect. you might be underestimating the final treatment effect, because you are including periods where it hasn’t fully matured yet.\n",
    "\n",
    "Skipping the rest of the CH \n",
    "\n",
    "# 9 Synthetic Control\n",
    "\n",
    "DID works great if you have a relatively large number of units N compared to time periods T, it falls short when the reverse is true. In contrast, synthetic control was designed to work with very few, even one, treatment unit\n",
    "\n",
    "It is an incredibly clever way to use (but not\n",
    "condition on) past outcomes in order to estimate $E[ Y(0) |D = 1, \\text{Post} = 1 ]$.\n",
    "\n",
    "pped reading\n"
   ]
  },
  {
   "cell_type": "markdown",
   "id": "e7f53fbc-efbe-4ca8-b2e7-dadf78835ab2",
   "metadata": {},
   "source": []
  },
  {
   "cell_type": "markdown",
   "id": "b77dd87c-66c1-4ff8-be0e-d6ab92aed05c",
   "metadata": {},
   "source": []
  },
  {
   "cell_type": "markdown",
   "id": "b3e715f8-0af6-4765-b813-5fd518c22969",
   "metadata": {},
   "source": []
  },
  {
   "cell_type": "markdown",
   "id": "8717e6a8-6b83-4f34-b41e-46839163f8a5",
   "metadata": {},
   "source": []
  },
  {
   "cell_type": "markdown",
   "id": "a8b0adf1-6e40-42ad-bcc6-31cf3e7f35ff",
   "metadata": {},
   "source": []
  },
  {
   "cell_type": "markdown",
   "id": "f23449b7-154d-4c0e-8c00-97fe1f4d6672",
   "metadata": {},
   "source": []
  },
  {
   "cell_type": "markdown",
   "id": "bd4cccf8-c7fb-4139-8fdb-906ea8b59eae",
   "metadata": {},
   "source": []
  },
  {
   "cell_type": "markdown",
   "id": "6067b9fb-81c4-4013-af88-47ac3e99b3c1",
   "metadata": {},
   "source": []
  },
  {
   "cell_type": "markdown",
   "id": "a13d2a50-5044-4ed2-9fb9-ac4e244c95ae",
   "metadata": {},
   "source": []
  },
  {
   "cell_type": "markdown",
   "id": "57880ec7-cff7-41ed-a9f3-89572c5f0997",
   "metadata": {},
   "source": []
  },
  {
   "cell_type": "markdown",
   "id": "dac085f5-a7c2-46a5-a9d3-3eb98e888cdb",
   "metadata": {},
   "source": []
  },
  {
   "cell_type": "markdown",
   "id": "2a946ff7-f3fd-4c79-b08d-8c4ca0b20ad1",
   "metadata": {},
   "source": []
  },
  {
   "cell_type": "markdown",
   "id": "8055e967-96c0-4c9e-b0c4-3d0a4a8b350a",
   "metadata": {},
   "source": []
  },
  {
   "cell_type": "markdown",
   "id": "61c9e957-484a-4f08-b1be-ff805572d351",
   "metadata": {},
   "source": []
  },
  {
   "cell_type": "markdown",
   "id": "552e7671-08d3-4f7e-bdc6-8b6c86677430",
   "metadata": {},
   "source": []
  },
  {
   "cell_type": "markdown",
   "id": "9ac70ffb-eb57-47bf-8dab-baa7d202b748",
   "metadata": {},
   "source": []
  },
  {
   "cell_type": "markdown",
   "id": "9ec30234-9862-44f6-b80f-770cd3eac4b3",
   "metadata": {},
   "source": []
  },
  {
   "cell_type": "code",
   "execution_count": null,
   "id": "72faeaa0-71c4-44d6-adbc-ebff5510e09f",
   "metadata": {},
   "outputs": [],
   "source": [
    "combination of treatment and post"
   ]
  }
 ],
 "metadata": {
  "kernelspec": {
   "display_name": "Python 3 (ipykernel)",
   "language": "python",
   "name": "python3"
  },
  "language_info": {
   "codemirror_mode": {
    "name": "ipython",
    "version": 3
   },
   "file_extension": ".py",
   "mimetype": "text/x-python",
   "name": "python",
   "nbconvert_exporter": "python",
   "pygments_lexer": "ipython3",
   "version": "3.9.18"
  }
 },
 "nbformat": 4,
 "nbformat_minor": 5
}
